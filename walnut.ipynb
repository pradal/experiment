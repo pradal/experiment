{
 "metadata": {
  "name": "walnut"
 },
 "nbformat": 3,
 "nbformat_minor": 0,
 "worksheets": [
  {
   "cells": [
    {
     "cell_type": "heading",
     "level": 1,
     "metadata": {},
     "source": [
      "Walnut reconstruction and simulation"
     ]
    },
    {
     "cell_type": "code",
     "collapsed": false,
     "input": [
      "%gui qt"
     ],
     "language": "python",
     "metadata": {},
     "outputs": []
    },
    {
     "cell_type": "code",
     "collapsed": false,
     "input": [
      "%reload_ext lpymagic\n",
      "%load_ext rmagic"
     ],
     "language": "python",
     "metadata": {},
     "outputs": []
    },
    {
     "cell_type": "code",
     "collapsed": false,
     "input": [
      "%load ../../vplants/lpy/share/tutorial/lpy-paper12-examples/lsystem5.lpy"
     ],
     "language": "python",
     "metadata": {},
     "outputs": []
    },
    {
     "cell_type": "code",
     "collapsed": false,
     "input": [
      "from vpltkdisplay import *\n",
      "from openalea.deploy.shared_data import shared_data\n",
      "from openalea.plantgl.all import *\n",
      "\n",
      "import openalea.mtg\n",
      "from openalea.mtg import *\n",
      "from openalea.mtg.plantframe import *\n",
      "\n",
      "data = shared_data(openalea.mtg)\n",
      "\n",
      "# Load walnut MTG                   \n",
      "g = MTG(data/'noylum2.mtg')\n",
      "\n",
      "dresser = plantframe.DressingData(DiameterUnit=10)\n",
      "pf = plantframe.PlantFrame(g, TopDiameter='TopDia', DressingData=dresser)\n",
      "PlantGL(pf.plot(gc=True))"
     ],
     "language": "python",
     "metadata": {},
     "outputs": []
    },
    {
     "cell_type": "code",
     "collapsed": false,
     "input": [],
     "language": "python",
     "metadata": {},
     "outputs": []
    }
   ],
   "metadata": {}
  }
 ]
}